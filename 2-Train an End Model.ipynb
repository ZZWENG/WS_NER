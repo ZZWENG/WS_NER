{
 "cells": [
  {
   "cell_type": "code",
   "execution_count": 1,
   "metadata": {},
   "outputs": [
    {
     "name": "stderr",
     "output_type": "stream",
     "text": [
      "Using TensorFlow backend.\n"
     ]
    }
   ],
   "source": [
    "import pandas as pd\n",
    "import numpy as np\n",
    "import matplotlib.pyplot as plt\n",
    "\n",
    "from keras.utils import to_categorical\n",
    "from keras.preprocessing.sequence import pad_sequences\n",
    "from sklearn.model_selection import train_test_split"
   ]
  },
  {
   "cell_type": "code",
   "execution_count": 2,
   "metadata": {},
   "outputs": [],
   "source": [
    "train_df = pd.read_pickle('./train_seq_df.pkl')\n",
    "dev_df = pd.read_pickle('./dev_seq_df.pkl')\n",
    "test_df = pd.read_pickle('./test_seq_df.pkl')"
   ]
  },
  {
   "cell_type": "code",
   "execution_count": 3,
   "metadata": {},
   "outputs": [
    {
     "data": {
      "text/html": [
       "<div>\n",
       "<style scoped>\n",
       "    .dataframe tbody tr th:only-of-type {\n",
       "        vertical-align: middle;\n",
       "    }\n",
       "\n",
       "    .dataframe tbody tr th {\n",
       "        vertical-align: top;\n",
       "    }\n",
       "\n",
       "    .dataframe thead th {\n",
       "        text-align: right;\n",
       "    }\n",
       "</style>\n",
       "<table border=\"1\" class=\"dataframe\">\n",
       "  <thead>\n",
       "    <tr style=\"text-align: right;\">\n",
       "      <th></th>\n",
       "      <th>product</th>\n",
       "      <th>label</th>\n",
       "    </tr>\n",
       "  </thead>\n",
       "  <tbody>\n",
       "    <tr>\n",
       "      <th>0</th>\n",
       "      <td>apple watch</td>\n",
       "      <td>brand category</td>\n",
       "    </tr>\n",
       "    <tr>\n",
       "      <th>1</th>\n",
       "      <td>ipad</td>\n",
       "      <td>category</td>\n",
       "    </tr>\n",
       "    <tr>\n",
       "      <th>2</th>\n",
       "      <td>apple watch series 3</td>\n",
       "      <td>brand category modelname modelname</td>\n",
       "    </tr>\n",
       "    <tr>\n",
       "      <th>3</th>\n",
       "      <td>apple watch series 2</td>\n",
       "      <td>brand category modelname modelname</td>\n",
       "    </tr>\n",
       "    <tr>\n",
       "      <th>4</th>\n",
       "      <td>apple homepod</td>\n",
       "      <td>brand category</td>\n",
       "    </tr>\n",
       "  </tbody>\n",
       "</table>\n",
       "</div>"
      ],
      "text/plain": [
       "                product                               label\n",
       "0           apple watch                      brand category\n",
       "1                  ipad                            category\n",
       "2  apple watch series 3  brand category modelname modelname\n",
       "3  apple watch series 2  brand category modelname modelname\n",
       "4         apple homepod                      brand category"
      ]
     },
     "execution_count": 3,
     "metadata": {},
     "output_type": "execute_result"
    }
   ],
   "source": [
    "train_df.head()"
   ]
  },
  {
   "cell_type": "code",
   "execution_count": 4,
   "metadata": {
    "scrolled": false
   },
   "outputs": [
    {
     "data": {
      "text/plain": [
       "(4, 837)"
      ]
     },
     "execution_count": 4,
     "metadata": {},
     "output_type": "execute_result"
    }
   ],
   "source": [
    "train_sentences = []\n",
    "words = set()\n",
    "for i, row in train_df.iterrows():\n",
    "    sent = list(zip(row['product'].split(), row['label'].split()))\n",
    "    train_sentences += [sent]\n",
    "    words.update(row['product'].split())\n",
    "    \n",
    "dev_sentences = []\n",
    "for i, row in dev_df.iterrows():\n",
    "    sent = list(zip(row['product'].split(), row['label'].split()))\n",
    "    dev_sentences += [sent]\n",
    "    words.update(row['product'].split())\n",
    "    \n",
    "test_sentences = []\n",
    "for i, row in test_df.iterrows():\n",
    "    sent = list(zip(row['product'].split(), row['label'].split()))\n",
    "    test_sentences += [sent]\n",
    "    words.update(row['product'].split())\n",
    "    \n",
    "words = list(words)\n",
    "tags = ['other', 'category', 'modelname', 'brand']\n",
    "\n",
    "n_tags = len(tags)\n",
    "n_words = len(words) # vocabulary size\n",
    "n_tags, n_words"
   ]
  },
  {
   "cell_type": "code",
   "execution_count": 5,
   "metadata": {
    "scrolled": false
   },
   "outputs": [
    {
     "data": {
      "text/plain": [
       "[[('apple', 'brand'), ('watch', 'category')],\n",
       " [('ipad', 'category')],\n",
       " [('apple', 'brand'),\n",
       "  ('watch', 'category'),\n",
       "  ('series', 'modelname'),\n",
       "  ('3', 'modelname')],\n",
       " [('apple', 'brand'),\n",
       "  ('watch', 'category'),\n",
       "  ('series', 'modelname'),\n",
       "  ('2', 'modelname')],\n",
       " [('apple', 'brand'), ('homepod', 'category')]]"
      ]
     },
     "execution_count": 5,
     "metadata": {},
     "output_type": "execute_result"
    }
   ],
   "source": [
    "train_sentences[:5]"
   ]
  },
  {
   "cell_type": "code",
   "execution_count": 6,
   "metadata": {
    "scrolled": true
   },
   "outputs": [],
   "source": [
    "MAX_LEN = 7  # Max length of review (in words)\n",
    "\n",
    "# Vocabulary Key:word -> Value:token_index\n",
    "# The first 2 entries are reserved for PAD and UNK\n",
    "word2idx = {w: i + 2 for i, w in enumerate(words)}\n",
    "word2idx[\"UNK\"] = 1 # Unknown words\n",
    "word2idx[\"PAD\"] = 0 # Padding\n",
    "\n",
    "# Vocabulary Key:token_index -> Value:word\n",
    "idx2word = {i: w for w, i in word2idx.items()}\n",
    "\n",
    "# Vocabulary Key:Label/Tag -> Value:tag_index\n",
    "# The first entry is reserved for PAD\n",
    "tag2idx = {t: i+1 for i, t in enumerate(tags)}\n",
    "tag2idx[\"PAD\"] = 0\n",
    "\n",
    "# Vocabulary Key:tag_index -> Value:Label/Tag\n",
    "idx2tag = {i: w for w, i in tag2idx.items()}"
   ]
  },
  {
   "cell_type": "code",
   "execution_count": 7,
   "metadata": {},
   "outputs": [],
   "source": [
    "# Convert each sentence from list of Token to list of word_index\n",
    "X_train = [[word2idx[w[0]] for w in s] for s in train_sentences]\n",
    "X_train = pad_sequences(maxlen=MAX_LEN, sequences=X_train, padding=\"post\", value=word2idx[\"PAD\"])\n",
    "y_train = [[tag2idx[w[1]] for w in s] for s in train_sentences]\n",
    "y_train = pad_sequences(maxlen=MAX_LEN, sequences=y_train, padding=\"post\", value=tag2idx[\"PAD\"])\n",
    "\n",
    "X_dev = [[word2idx[w[0]] for w in s] for s in dev_sentences]\n",
    "X_dev = pad_sequences(maxlen=MAX_LEN, sequences=X_dev, padding=\"post\", value=word2idx[\"PAD\"])\n",
    "y_dev = [[tag2idx[w[1]] for w in s] for s in dev_sentences]\n",
    "y_dev = pad_sequences(maxlen=MAX_LEN, sequences=y_dev, padding=\"post\", value=tag2idx[\"PAD\"])\n",
    "\n",
    "X_test = [[word2idx[w[0]] for w in s] for s in test_sentences]\n",
    "X_test = pad_sequences(maxlen=MAX_LEN, sequences=X_test, padding=\"post\", value=word2idx[\"PAD\"])\n",
    "y_test = [[tag2idx[w[1]] for w in s] for s in test_sentences]\n",
    "y_test = pad_sequences(maxlen=MAX_LEN, sequences=y_test, padding=\"post\", value=tag2idx[\"PAD\"])\n",
    "\n",
    "# One-Hot encode\n",
    "y_train = [to_categorical(i, num_classes=n_tags+1) for i in y_train]  # n_tags+1(PAD)\n",
    "y_dev = [to_categorical(i, num_classes=n_tags+1) for i in y_dev]  # n_tags+1(PAD)\n",
    "y_test = [to_categorical(i, num_classes=n_tags+1) for i in y_test]  # n_tags+1(PAD)"
   ]
  },
  {
   "cell_type": "code",
   "execution_count": 8,
   "metadata": {
    "scrolled": true
   },
   "outputs": [
    {
     "name": "stdout",
     "output_type": "stream",
     "text": [
      "WARNING:tensorflow:From C:\\Users\\zhenz\\Anaconda3\\envs\\keras\\lib\\site-packages\\keras\\backend\\tensorflow_backend.py:74: The name tf.get_default_graph is deprecated. Please use tf.compat.v1.get_default_graph instead.\n",
      "\n",
      "WARNING:tensorflow:From C:\\Users\\zhenz\\Anaconda3\\envs\\keras\\lib\\site-packages\\keras\\backend\\tensorflow_backend.py:517: The name tf.placeholder is deprecated. Please use tf.compat.v1.placeholder instead.\n",
      "\n",
      "WARNING:tensorflow:From C:\\Users\\zhenz\\Anaconda3\\envs\\keras\\lib\\site-packages\\keras\\backend\\tensorflow_backend.py:4138: The name tf.random_uniform is deprecated. Please use tf.random.uniform instead.\n",
      "\n",
      "WARNING:tensorflow:From C:\\Users\\zhenz\\Anaconda3\\envs\\keras\\lib\\site-packages\\keras\\backend\\tensorflow_backend.py:133: The name tf.placeholder_with_default is deprecated. Please use tf.compat.v1.placeholder_with_default instead.\n",
      "\n",
      "WARNING:tensorflow:From C:\\Users\\zhenz\\Anaconda3\\envs\\keras\\lib\\site-packages\\keras\\backend\\tensorflow_backend.py:3445: calling dropout (from tensorflow.python.ops.nn_ops) with keep_prob is deprecated and will be removed in a future version.\n",
      "Instructions for updating:\n",
      "Please use `rate` instead of `keep_prob`. Rate should be set to `rate = 1 - keep_prob`.\n",
      "WARNING:tensorflow:From C:\\Users\\zhenz\\Anaconda3\\envs\\keras\\lib\\site-packages\\keras\\backend\\tensorflow_backend.py:2974: add_dispatch_support.<locals>.wrapper (from tensorflow.python.ops.array_ops) is deprecated and will be removed in a future version.\n",
      "Instructions for updating:\n",
      "Use tf.where in 2.0, which has the same broadcast rule as np.where\n",
      "WARNING:tensorflow:From C:\\Users\\zhenz\\Anaconda3\\envs\\keras\\lib\\site-packages\\keras\\optimizers.py:790: The name tf.train.Optimizer is deprecated. Please use tf.compat.v1.train.Optimizer instead.\n",
      "\n"
     ]
    },
    {
     "name": "stderr",
     "output_type": "stream",
     "text": [
      "C:\\Users\\zhenz\\Anaconda3\\envs\\keras\\lib\\site-packages\\keras_contrib\\layers\\crf.py:346: UserWarning: CRF.loss_function is deprecated and it might be removed in the future. Please use losses.crf_loss instead.\n",
      "  warnings.warn('CRF.loss_function is deprecated '\n",
      "C:\\Users\\zhenz\\Anaconda3\\envs\\keras\\lib\\site-packages\\keras_contrib\\layers\\crf.py:353: UserWarning: CRF.accuracy is deprecated and it might be removed in the future. Please use metrics.crf_accuracy\n",
      "  warnings.warn('CRF.accuracy is deprecated and it '\n"
     ]
    }
   ],
   "source": [
    "from keras.models import Model, Input\n",
    "from keras.layers import LSTM, Embedding, Dense, TimeDistributed, Dropout, Bidirectional\n",
    "from keras_contrib.layers.crf import CRF\n",
    "\n",
    "BATCH_SIZE = 16  # Number of examples used in each iteration\n",
    "EPOCHS = 15  # Number of passes through entire dataset\n",
    "EMBEDDING = 35  # Dimension of word embedding vector\n",
    "DROPOUT = 0.2\n",
    "\n",
    "# Model definition\n",
    "input = Input(shape=(MAX_LEN,))\n",
    "model = Embedding(input_dim=n_words+2, output_dim=EMBEDDING, # n_words + 2 (PAD & UNK)\n",
    "                  input_length=MAX_LEN, mask_zero=True)(input)  # default: 20-dim embedding\n",
    "model = Bidirectional(LSTM(units=50, return_sequences=True,\n",
    "                           recurrent_dropout=DROPOUT))(model)  # variational biLSTM\n",
    "model = TimeDistributed(Dense(50, activation=\"relu\"))(model)  # a dense layer as suggested by neuralNer\n",
    "crf = CRF(n_tags+1)  # CRF layer, n_tags+1(PAD)\n",
    "out = crf(model)  # output\n",
    "\n",
    "model = Model(input, out)\n",
    "model.compile(optimizer=\"rmsprop\", loss=crf.loss_function, metrics=[crf.accuracy])\n",
    "# model.summary()"
   ]
  },
  {
   "cell_type": "code",
   "execution_count": 11,
   "metadata": {
    "scrolled": false
   },
   "outputs": [
    {
     "name": "stdout",
     "output_type": "stream",
     "text": [
      "Train on 554 samples, validate on 139 samples\n",
      "Epoch 1/20\n",
      " - 0s - loss: 4.1777 - crf_viterbi_accuracy: 0.9950 - val_loss: 11.7647 - val_crf_viterbi_accuracy: 0.4646\n",
      "Epoch 2/20\n",
      " - 0s - loss: 4.1749 - crf_viterbi_accuracy: 0.9949 - val_loss: 12.3182 - val_crf_viterbi_accuracy: 0.4587\n",
      "Epoch 3/20\n",
      " - 0s - loss: 4.1730 - crf_viterbi_accuracy: 0.9964 - val_loss: 12.6766 - val_crf_viterbi_accuracy: 0.4536\n",
      "Epoch 4/20\n",
      " - 0s - loss: 4.1720 - crf_viterbi_accuracy: 0.9963 - val_loss: 12.6073 - val_crf_viterbi_accuracy: 0.4564\n",
      "Epoch 5/20\n",
      " - 0s - loss: 4.1692 - crf_viterbi_accuracy: 0.9992 - val_loss: 13.1513 - val_crf_viterbi_accuracy: 0.4538\n",
      "Epoch 6/20\n",
      " - 0s - loss: 4.1685 - crf_viterbi_accuracy: 0.9993 - val_loss: 13.5974 - val_crf_viterbi_accuracy: 0.4538\n",
      "Epoch 7/20\n",
      " - 0s - loss: 4.1670 - crf_viterbi_accuracy: 1.0000 - val_loss: 13.7103 - val_crf_viterbi_accuracy: 0.4650\n",
      "Epoch 8/20\n",
      " - 0s - loss: 4.1666 - crf_viterbi_accuracy: 1.0000 - val_loss: 13.8139 - val_crf_viterbi_accuracy: 0.4707\n",
      "Epoch 9/20\n",
      " - 0s - loss: 4.1665 - crf_viterbi_accuracy: 0.9994 - val_loss: 14.2146 - val_crf_viterbi_accuracy: 0.4619\n",
      "Epoch 10/20\n",
      " - 0s - loss: 4.1659 - crf_viterbi_accuracy: 1.0000 - val_loss: 14.1809 - val_crf_viterbi_accuracy: 0.4823\n",
      "Epoch 11/20\n",
      " - 0s - loss: 4.1658 - crf_viterbi_accuracy: 1.0000 - val_loss: 14.8514 - val_crf_viterbi_accuracy: 0.4681\n",
      "Epoch 12/20\n",
      " - 0s - loss: 4.1660 - crf_viterbi_accuracy: 0.9992 - val_loss: 15.0109 - val_crf_viterbi_accuracy: 0.4681\n",
      "Epoch 13/20\n",
      " - 0s - loss: 4.1656 - crf_viterbi_accuracy: 1.0000 - val_loss: 15.3270 - val_crf_viterbi_accuracy: 0.4655\n",
      "Epoch 14/20\n",
      " - 0s - loss: 4.1655 - crf_viterbi_accuracy: 1.0000 - val_loss: 15.5083 - val_crf_viterbi_accuracy: 0.4684\n",
      "Epoch 15/20\n",
      " - 0s - loss: 4.1655 - crf_viterbi_accuracy: 1.0000 - val_loss: 16.3232 - val_crf_viterbi_accuracy: 0.4480\n",
      "Epoch 16/20\n",
      " - 0s - loss: 4.1655 - crf_viterbi_accuracy: 1.0000 - val_loss: 15.9012 - val_crf_viterbi_accuracy: 0.4795\n",
      "Epoch 17/20\n",
      " - 0s - loss: 4.1655 - crf_viterbi_accuracy: 1.0000 - val_loss: 16.1392 - val_crf_viterbi_accuracy: 0.4715\n",
      "Epoch 18/20\n",
      " - 0s - loss: 4.1655 - crf_viterbi_accuracy: 1.0000 - val_loss: 17.0304 - val_crf_viterbi_accuracy: 0.4595\n",
      "Epoch 19/20\n",
      " - 0s - loss: 4.1655 - crf_viterbi_accuracy: 1.0000 - val_loss: 15.9433 - val_crf_viterbi_accuracy: 0.4888\n",
      "Epoch 20/20\n",
      " - 0s - loss: 4.1655 - crf_viterbi_accuracy: 1.0000 - val_loss: 17.2398 - val_crf_viterbi_accuracy: 0.4629\n"
     ]
    }
   ],
   "source": [
    "history = model.fit(X_train, np.array(y_train), batch_size=BATCH_SIZE, epochs=20,\n",
    "                    validation_data=(X_dev, np.array(y_dev)), verbose=2)\n",
    "# Eval\n",
    "pred_cat = model.predict(X_test)\n",
    "pred = np.argmax(pred_cat, axis=-1)\n",
    "y_test_true = np.argmax(y_test, -1)"
   ]
  },
  {
   "cell_type": "code",
   "execution_count": 10,
   "metadata": {},
   "outputs": [
    {
     "name": "stderr",
     "output_type": "stream",
     "text": [
      "C:\\Users\\zhenz\\Anaconda3\\envs\\keras\\lib\\site-packages\\sklearn\\metrics\\classification.py:1437: UndefinedMetricWarning: Precision and F-score are ill-defined and being set to 0.0 in labels with no predicted samples.\n",
      "  'precision', 'predicted', average, warn_for)\n"
     ]
    },
    {
     "name": "stdout",
     "output_type": "stream",
     "text": [
      "              precision    recall  f1-score   support\n",
      "\n",
      "         PAD       1.00      1.00      1.00       337\n",
      "       brand       0.92      0.44      0.59        25\n",
      "    category       0.39      1.00      0.56        67\n",
      "   modelname       0.71      0.21      0.32        58\n",
      "       other       0.00      0.00      0.00        52\n",
      "\n",
      "    accuracy                           0.79       539\n",
      "   macro avg       0.60      0.53      0.49       539\n",
      "weighted avg       0.79      0.79      0.76       539\n",
      "\n"
     ]
    }
   ],
   "source": [
    "from sklearn_crfsuite.metrics import flat_classification_report\n",
    "\n",
    "pred_tag = [[idx2tag[i] for i in row] for row in pred]\n",
    "y_test_true_tag = [[idx2tag[i] for i in row] for row in y_test_true] \n",
    "\n",
    "report = flat_classification_report(y_pred=pred_tag, y_true=y_test_true_tag)\n",
    "print(report)"
   ]
  }
 ],
 "metadata": {
  "kernelspec": {
   "display_name": "Python 3",
   "language": "python",
   "name": "python3"
  },
  "language_info": {
   "codemirror_mode": {
    "name": "ipython",
    "version": 3
   },
   "file_extension": ".py",
   "mimetype": "text/x-python",
   "name": "python",
   "nbconvert_exporter": "python",
   "pygments_lexer": "ipython3",
   "version": "3.7.4"
  }
 },
 "nbformat": 4,
 "nbformat_minor": 2
}

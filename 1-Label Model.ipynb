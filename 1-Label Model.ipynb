{
 "cells": [
  {
   "cell_type": "code",
   "execution_count": 1,
   "metadata": {},
   "outputs": [],
   "source": [
    "import json\n",
    "import pprint\n",
    "import sys\n",
    "\n",
    "import numpy as np\n",
    "import pandas as pd\n",
    "from sklearn.model_selection import train_test_split\n",
    "\n",
    "sys.path.append(r'./../snorkel')"
   ]
  },
  {
   "cell_type": "markdown",
   "metadata": {},
   "source": [
    "## Task Overview\n",
    "\n",
    "Given product search queries like 'apple watch series 3', our goal is to tag the entities with labels like 'MODELNAME', 'CATEGORY', etc.\n",
    "\n",
    "Example: \"apple watch series 3\" -> \"brand category modelname modelname\""
   ]
  },
  {
   "cell_type": "markdown",
   "metadata": {},
   "source": [
    "## Dataset\n",
    "In this tutorial, we use <a href=\"https://dataturks.com/projects/Mohan/Best%20Buy%20E-commerce%20NER%20dataset\">BestBuy E-Commerge Dataset</a> from DataTurks. The dataset contains actual search queries on bestBuy.com manually labled by human experts. There are 772 unique products and 1872 tagged entities in total.\n",
    "\n",
    "\n",
    "#### Data Preprocessing\n",
    "The original dataset has 7 labels (category, modelname, brand, storage, screen size, etc). If a token does not belong to one of these 7 categories, then it is not tagged. We preprocess the data by only keeping 3 labels **(CATEGORY, MODELNAME, OTHER)** from the label set. All other labels (including abstain) are mapped to **OTHER**."
   ]
  },
  {
   "cell_type": "markdown",
   "metadata": {},
   "source": [
    "### Load BestBuy Dataset"
   ]
  },
  {
   "cell_type": "code",
   "execution_count": 37,
   "metadata": {},
   "outputs": [],
   "source": [
    "import pickle\n",
    "data = pickle.load(open(\"./data/bestbuy_data.p\", \"rb\"))\n",
    "product_names = list(data.keys())"
   ]
  },
  {
   "cell_type": "code",
   "execution_count": 53,
   "metadata": {
    "scrolled": false
   },
   "outputs": [
    {
     "name": "stdout",
     "output_type": "stream",
     "text": [
      "{'apple': 'brand', 'watch': 'category'}\n",
      "Number of tokens in the dataset 1905\n",
      "Size of the vocabulary in the dataset 837\n"
     ]
    }
   ],
   "source": [
    "pprint.pprint(data['apple watch'])\n",
    "\n",
    "print('Number of tokens in the dataset', sum([len(w.split()) for w in data.keys()]))\n",
    "print('Size of the vocabulary in the dataset', len(set(itertools.chain.from_iterable([w.split() for w in data.keys()]))))"
   ]
  },
  {
   "cell_type": "code",
   "execution_count": 39,
   "metadata": {},
   "outputs": [],
   "source": [
    "CATEGORY = 0\n",
    "MODELNAME = 1\n",
    "BRAND = 2\n",
    "OTHER = 3"
   ]
  },
  {
   "cell_type": "markdown",
   "metadata": {},
   "source": [
    "## Label Model\n",
    "\n",
    "To begin with, we will use Snorkel's Label Model to generate training labels for each token in the product names."
   ]
  },
  {
   "cell_type": "markdown",
   "metadata": {},
   "source": [
    "### Prepare dataframe for labeling functions\n",
    "\n",
    "We construct a dataframe where each row is a token that want to predict. The columns are:\n",
    "* 'Product Name': the product name that the token appears in.\n",
    "* 'word_idx': the index of the token in the product name.\n",
    "* 'feature': features used by the LFs.\n",
    "* 'label': the entity label of the token.\n",
    "\n",
    "For instance, the entry for 'apple watch' in the original dataset will be represented with the first 2 rows in this dataframe.\n"
   ]
  },
  {
   "cell_type": "code",
   "execution_count": 12,
   "metadata": {},
   "outputs": [
    {
     "data": {
      "text/html": [
       "<div>\n",
       "<style scoped>\n",
       "    .dataframe tbody tr th:only-of-type {\n",
       "        vertical-align: middle;\n",
       "    }\n",
       "\n",
       "    .dataframe tbody tr th {\n",
       "        vertical-align: top;\n",
       "    }\n",
       "\n",
       "    .dataframe thead th {\n",
       "        text-align: right;\n",
       "    }\n",
       "</style>\n",
       "<table border=\"1\" class=\"dataframe\">\n",
       "  <thead>\n",
       "    <tr style=\"text-align: right;\">\n",
       "      <th></th>\n",
       "      <th>product_name</th>\n",
       "      <th>word_idx</th>\n",
       "      <th>feature</th>\n",
       "      <th>label</th>\n",
       "    </tr>\n",
       "  </thead>\n",
       "  <tbody>\n",
       "    <tr>\n",
       "      <th>0</th>\n",
       "      <td>apple watch</td>\n",
       "      <td>0</td>\n",
       "      <td>([S], apple, watch)</td>\n",
       "      <td>2</td>\n",
       "    </tr>\n",
       "    <tr>\n",
       "      <th>1</th>\n",
       "      <td>apple watch</td>\n",
       "      <td>1</td>\n",
       "      <td>(apple, watch, [E])</td>\n",
       "      <td>0</td>\n",
       "    </tr>\n",
       "    <tr>\n",
       "      <th>2</th>\n",
       "      <td>ipad</td>\n",
       "      <td>0</td>\n",
       "      <td>([S], ipad, [E])</td>\n",
       "      <td>1</td>\n",
       "    </tr>\n",
       "    <tr>\n",
       "      <th>3</th>\n",
       "      <td>apple watch series 3</td>\n",
       "      <td>0</td>\n",
       "      <td>([S], apple, watch)</td>\n",
       "      <td>2</td>\n",
       "    </tr>\n",
       "    <tr>\n",
       "      <th>4</th>\n",
       "      <td>apple watch series 3</td>\n",
       "      <td>1</td>\n",
       "      <td>(apple, watch, series)</td>\n",
       "      <td>0</td>\n",
       "    </tr>\n",
       "  </tbody>\n",
       "</table>\n",
       "</div>"
      ],
      "text/plain": [
       "           product_name  word_idx                 feature  label\n",
       "0           apple watch         0     ([S], apple, watch)      2\n",
       "1           apple watch         1     (apple, watch, [E])      0\n",
       "2                  ipad         0        ([S], ipad, [E])      1\n",
       "3  apple watch series 3         0     ([S], apple, watch)      2\n",
       "4  apple watch series 3         1  (apple, watch, series)      0"
      ]
     },
     "execution_count": 12,
     "metadata": {},
     "output_type": "execute_result"
    }
   ],
   "source": [
    "start_tok, end_tok = '[S]', '[E]'\n",
    "to_tokens = lambda s: [start_tok] + s.split() + [end_tok]\n",
    "df_data = []\n",
    "\n",
    "label_list = ['category', 'modelname', 'brand', 'other']\n",
    "label_to_int = lambda label: label_list.index(label)\n",
    "\n",
    "for name, annotations in data.items():\n",
    "    toks = to_tokens(name)\n",
    "    ngrams = list(zip(*[toks[i:] for i in range(3)]))\n",
    "    for i, ngram in enumerate(ngrams):\n",
    "        token_to_tag = ngram[1]\n",
    "        if token_to_tag not in annotations:\n",
    "            label = label_list.index('other')\n",
    "        else:\n",
    "            label = label_list.index(annotations.get(ngram[1]))\n",
    "        df_data.append({'product_name': name, 'word_idx': i, 'feature': ngram, \n",
    "                        'label': label})\n",
    "df = pd.DataFrame(df_data)\n",
    "df.head()"
   ]
  },
  {
   "cell_type": "markdown",
   "metadata": {},
   "source": [
    "### Split Data into Train, Dev, Test sets"
   ]
  },
  {
   "cell_type": "code",
   "execution_count": 13,
   "metadata": {
    "scrolled": true
   },
   "outputs": [
    {
     "name": "stdout",
     "output_type": "stream",
     "text": [
      "Number of products in train set: 554\n",
      "Number of products in dev set: 139\n",
      "Number of products in test set: 77\n"
     ]
    }
   ],
   "source": [
    "train_products, test_products = train_test_split(product_names, test_size=0.1, random_state=123) \n",
    "train_products, dev_products = train_test_split(train_products, test_size=0.2, random_state=123) \n",
    "print('Number of products in train set:', len(train_products))\n",
    "print('Number of products in dev set:', len(dev_products))\n",
    "print('Number of products in test set:', len(test_products))"
   ]
  },
  {
   "cell_type": "markdown",
   "metadata": {},
   "source": [
    "In this tutorial, we will assume that we don't have the labels for the training set. We have the labels for dev and test set. We will use the dev set to tune the label model, and evaluate on the test set."
   ]
  },
  {
   "cell_type": "code",
   "execution_count": 14,
   "metadata": {},
   "outputs": [
    {
     "data": {
      "text/plain": [
       "((1349, 3), (354, 3), (202, 3))"
      ]
     },
     "execution_count": 14,
     "metadata": {},
     "output_type": "execute_result"
    }
   ],
   "source": [
    "train_df = df[df.product_name.isin(train_products)]\n",
    "X_train = train_df[['product_name', 'word_idx', 'feature']]\n",
    "\n",
    "dev_df = df[df.product_name.isin(dev_products)]\n",
    "X_dev, y_dev = dev_df[['product_name', 'word_idx', 'feature']], dev_df['label']\n",
    "\n",
    "test_df = df[df.product_name.isin(test_products)]\n",
    "X_test, y_test = test_df[['product_name', 'word_idx', 'feature']], test_df['label']\n",
    "\n",
    "X_train.shape, X_dev.shape, X_test.shape"
   ]
  },
  {
   "cell_type": "markdown",
   "metadata": {},
   "source": [
    "### Write Labeling Functions\n",
    "\n",
    "We can write labeling functions using the following rules.\n",
    "1. Heuristics.\n",
    "    - if the token is before a number, then it is likely MODELNAME. E.g. \"apple watch *series* 3\"\n",
    "    - if the token is a number, then it is likely MODELNAME. E.g. \"apple watch series *3*\"\n",
    "    - if the token contains some measurement units (e.g. tb, inch), then it is probably OTHER.\n",
    "2. External knowledge source (a list of brand names scrapped from BestBuy)\n",
    "    - if the token is in the list of brand names, then it is BRANDNAME.\n",
    "    - if the token is after a brand name, it is likely MODELNAME. E.g. beats *solo3* wireless"
   ]
  },
  {
   "cell_type": "markdown",
   "metadata": {},
   "source": [
    "#### 1. Heuristics"
   ]
  },
  {
   "cell_type": "code",
   "execution_count": 32,
   "metadata": {},
   "outputs": [],
   "source": [
    "from snorkel.labeling import labeling_function\n",
    "\n",
    "\n",
    "@labeling_function()\n",
    "def lf_is_before_num(x):\n",
    "    \"\"\" If the word is before a number, it is likely MODELNAME E.g. apple watch *series* 3\n",
    "    \"\"\"\n",
    "    words = x.feature\n",
    "    if x.feature[2].isnumeric():\n",
    "        return MODELNAME\n",
    "    return -1\n",
    "\n",
    "@labeling_function()\n",
    "def lf_is_numeric(x):\n",
    "    \"\"\" E.g. E.g. apple watch series *3*\n",
    "    \"\"\"\n",
    "    words = x.feature\n",
    "    if x.feature[1].isnumeric():\n",
    "        return MODELNAME\n",
    "    return -1\n",
    "\n",
    "@labeling_function()\n",
    "def lf_is_other(x):\n",
    "    word = x.feature[1]\n",
    "    # if a word ends with those measurement units, then it is likely OTHER\n",
    "    if word.endswith('inch') or word.endswith('gb') or word.endswith('tb') or word.endswith('$'):\n",
    "        return OTHER\n",
    "    if word.startswith('$'):\n",
    "        return OTHER\n",
    "    return -1"
   ]
  },
  {
   "cell_type": "markdown",
   "metadata": {},
   "source": [
    "#### 2. External knowledge source"
   ]
  },
  {
   "cell_type": "code",
   "execution_count": 33,
   "metadata": {},
   "outputs": [],
   "source": [
    "from bs4 import BeautifulSoup\n",
    "import codecs\n",
    "\n",
    "# Use BeautifulSoup to scrap the list of brand names from the BestBuy brands page.\n",
    "f=codecs.open(r\"data/NameBrands_BestBuy.html\", 'r', 'utf-8')\n",
    "soup= BeautifulSoup(f.read(), 'lxml')\n",
    "brand_list_div = soup.find_all('div', {\"class\": \"alphabetical-list\"})[0]\n",
    "brand_names = [url.get('data-lid').lower() for url in brand_list_div.find_all('a')]\n",
    "\n",
    "\n",
    "@labeling_function(resources={'brand_names': brand_names})\n",
    "def lf_is_brand(x, brand_names):\n",
    "    \"\"\" Checks if the word is in the list of brand names.\n",
    "    \"\"\"\n",
    "    words = x.feature\n",
    "    if x.feature[1] in brand_names:\n",
    "        return BRAND\n",
    "    return -1\n",
    "\n",
    "@labeling_function(resources={'brand_names': brand_names})\n",
    "def lf_is_after_brand(x, brand_names):\n",
    "    \"\"\" If the word is after a brand name, it is likely MODELNAME. E.g. beats *solo3* wireless\n",
    "    \"\"\"\n",
    "    words = x.feature\n",
    "    if x.feature[0] in brand_names:\n",
    "        return MODELNAME\n",
    "    return -1"
   ]
  },
  {
   "cell_type": "markdown",
   "metadata": {},
   "source": [
    "### Tune the LFs"
   ]
  },
  {
   "cell_type": "code",
   "execution_count": 34,
   "metadata": {
    "scrolled": false
   },
   "outputs": [
    {
     "name": "stderr",
     "output_type": "stream",
     "text": [
      "C:\\Users\\zhenz\\Anaconda3\\envs\\keras\\lib\\site-packages\\tqdm\\std.py:651: FutureWarning: The Panel class is removed from pandas. Accessing it from the top-level namespace will also be removed in the next version\n",
      "  from pandas import Panel\n",
      "100%|████████████████████████████████████████████████████████████████████████████| 1349/1349 [00:00<00:00, 9659.35it/s]\n",
      "100%|██████████████████████████████████████████████████████████████████████████████| 354/354 [00:00<00:00, 9849.77it/s]\n",
      "100%|██████████████████████████████████████████████████████████████████████████████| 202/202 [00:00<00:00, 9629.80it/s]\n"
     ]
    },
    {
     "data": {
      "text/html": [
       "<div>\n",
       "<style scoped>\n",
       "    .dataframe tbody tr th:only-of-type {\n",
       "        vertical-align: middle;\n",
       "    }\n",
       "\n",
       "    .dataframe tbody tr th {\n",
       "        vertical-align: top;\n",
       "    }\n",
       "\n",
       "    .dataframe thead th {\n",
       "        text-align: right;\n",
       "    }\n",
       "</style>\n",
       "<table border=\"1\" class=\"dataframe\">\n",
       "  <thead>\n",
       "    <tr style=\"text-align: right;\">\n",
       "      <th></th>\n",
       "      <th>j</th>\n",
       "      <th>Polarity</th>\n",
       "      <th>Coverage</th>\n",
       "      <th>Overlaps</th>\n",
       "      <th>Conflicts</th>\n",
       "      <th>Correct</th>\n",
       "      <th>Incorrect</th>\n",
       "      <th>Emp. Acc.</th>\n",
       "    </tr>\n",
       "  </thead>\n",
       "  <tbody>\n",
       "    <tr>\n",
       "      <th>lf_is_brand</th>\n",
       "      <td>0</td>\n",
       "      <td>[2]</td>\n",
       "      <td>0.096045</td>\n",
       "      <td>0.0</td>\n",
       "      <td>0.0</td>\n",
       "      <td>33</td>\n",
       "      <td>1</td>\n",
       "      <td>0.970588</td>\n",
       "    </tr>\n",
       "    <tr>\n",
       "      <th>lf_is_before_num</th>\n",
       "      <td>1</td>\n",
       "      <td>[1]</td>\n",
       "      <td>0.053672</td>\n",
       "      <td>0.0</td>\n",
       "      <td>0.0</td>\n",
       "      <td>16</td>\n",
       "      <td>3</td>\n",
       "      <td>0.842105</td>\n",
       "    </tr>\n",
       "    <tr>\n",
       "      <th>lf_is_numeric</th>\n",
       "      <td>2</td>\n",
       "      <td>[1]</td>\n",
       "      <td>0.053672</td>\n",
       "      <td>0.0</td>\n",
       "      <td>0.0</td>\n",
       "      <td>17</td>\n",
       "      <td>2</td>\n",
       "      <td>0.894737</td>\n",
       "    </tr>\n",
       "    <tr>\n",
       "      <th>lf_is_other</th>\n",
       "      <td>3</td>\n",
       "      <td>[3]</td>\n",
       "      <td>0.008475</td>\n",
       "      <td>0.0</td>\n",
       "      <td>0.0</td>\n",
       "      <td>3</td>\n",
       "      <td>0</td>\n",
       "      <td>1.000000</td>\n",
       "    </tr>\n",
       "  </tbody>\n",
       "</table>\n",
       "</div>"
      ],
      "text/plain": [
       "                  j Polarity  Coverage  Overlaps  Conflicts  Correct  \\\n",
       "lf_is_brand       0      [2]  0.096045       0.0        0.0       33   \n",
       "lf_is_before_num  1      [1]  0.053672       0.0        0.0       16   \n",
       "lf_is_numeric     2      [1]  0.053672       0.0        0.0       17   \n",
       "lf_is_other       3      [3]  0.008475       0.0        0.0        3   \n",
       "\n",
       "                  Incorrect  Emp. Acc.  \n",
       "lf_is_brand               1   0.970588  \n",
       "lf_is_before_num          3   0.842105  \n",
       "lf_is_numeric             2   0.894737  \n",
       "lf_is_other               0   1.000000  "
      ]
     },
     "execution_count": 34,
     "metadata": {},
     "output_type": "execute_result"
    }
   ],
   "source": [
    "from snorkel.labeling import PandasLFApplier\n",
    "from snorkel.labeling import LFAnalysis\n",
    "\n",
    "lfs = [lf_is_brand, lf_is_before_num, lf_is_numeric, lf_is_other]\n",
    "\n",
    "applier = PandasLFApplier(lfs=lfs)\n",
    "\n",
    "L_train = applier.apply(df=X_train)\n",
    "L_dev = applier.apply(df=X_dev)\n",
    "L_test = applier.apply(df=X_test)\n",
    "\n",
    "LFAnalysis(L=L_dev, lfs=lfs).lf_summary(y_dev.values)"
   ]
  },
  {
   "cell_type": "markdown",
   "metadata": {},
   "source": [
    "### Train a Label Model"
   ]
  },
  {
   "cell_type": "code",
   "execution_count": 29,
   "metadata": {
    "scrolled": true
   },
   "outputs": [
    {
     "name": "stderr",
     "output_type": "stream",
     "text": [
      "WARNING:root:Metrics calculated over data points with non-abstain labels only\n"
     ]
    },
    {
     "name": "stdout",
     "output_type": "stream",
     "text": [
      "Majority Vote Accuracy:   92.0%\n"
     ]
    }
   ],
   "source": [
    "from snorkel.labeling import LabelModel\n",
    "from snorkel.labeling import MajorityLabelVoter\n",
    "\n",
    "majority_model = MajorityLabelVoter(cardinality=4)\n",
    "preds_train = majority_model.predict(L=L_train)\n",
    "\n",
    "majority_acc = majority_model.score(L=L_dev, Y=y_dev)[\"accuracy\"]\n",
    "print(f\"{'Majority Vote Accuracy:':<25} {majority_acc * 100:.1f}%\")"
   ]
  },
  {
   "cell_type": "code",
   "execution_count": 31,
   "metadata": {},
   "outputs": [
    {
     "name": "stderr",
     "output_type": "stream",
     "text": [
      "WARNING:root:Metrics calculated over data points with non-abstain labels only\n"
     ]
    },
    {
     "name": "stdout",
     "output_type": "stream",
     "text": [
      "Label Model Accuracy:     92.0%\n"
     ]
    }
   ],
   "source": [
    "label_model = LabelModel(cardinality=4, verbose=True)\n",
    "label_model.fit(L_train=L_train, n_epochs=2000, lr=1e-3, seed=123)\n",
    "\n",
    "label_model_acc = label_model.score(L=L_dev, Y=y_dev)[\"accuracy\"]\n",
    "print(f\"{'Label Model Accuracy:':<25} {label_model_acc * 100:.1f}%\")"
   ]
  },
  {
   "cell_type": "markdown",
   "metadata": {},
   "source": [
    "#### Choose the label with highest soft probability"
   ]
  },
  {
   "cell_type": "code",
   "execution_count": 24,
   "metadata": {
    "scrolled": true
   },
   "outputs": [
    {
     "data": {
      "text/html": [
       "<div>\n",
       "<style scoped>\n",
       "    .dataframe tbody tr th:only-of-type {\n",
       "        vertical-align: middle;\n",
       "    }\n",
       "\n",
       "    .dataframe tbody tr th {\n",
       "        vertical-align: top;\n",
       "    }\n",
       "\n",
       "    .dataframe thead th {\n",
       "        text-align: right;\n",
       "    }\n",
       "</style>\n",
       "<table border=\"1\" class=\"dataframe\">\n",
       "  <thead>\n",
       "    <tr style=\"text-align: right;\">\n",
       "      <th></th>\n",
       "      <th>product_name</th>\n",
       "      <th>word_idx</th>\n",
       "      <th>feature</th>\n",
       "      <th>label</th>\n",
       "    </tr>\n",
       "  </thead>\n",
       "  <tbody>\n",
       "    <tr>\n",
       "      <th>0</th>\n",
       "      <td>apple watch</td>\n",
       "      <td>0</td>\n",
       "      <td>([S], apple, watch)</td>\n",
       "      <td>2</td>\n",
       "    </tr>\n",
       "    <tr>\n",
       "      <th>1</th>\n",
       "      <td>apple watch</td>\n",
       "      <td>1</td>\n",
       "      <td>(apple, watch, [E])</td>\n",
       "      <td>0</td>\n",
       "    </tr>\n",
       "    <tr>\n",
       "      <th>2</th>\n",
       "      <td>ipad</td>\n",
       "      <td>0</td>\n",
       "      <td>([S], ipad, [E])</td>\n",
       "      <td>0</td>\n",
       "    </tr>\n",
       "    <tr>\n",
       "      <th>3</th>\n",
       "      <td>apple watch series 3</td>\n",
       "      <td>0</td>\n",
       "      <td>([S], apple, watch)</td>\n",
       "      <td>2</td>\n",
       "    </tr>\n",
       "    <tr>\n",
       "      <th>4</th>\n",
       "      <td>apple watch series 3</td>\n",
       "      <td>1</td>\n",
       "      <td>(apple, watch, series)</td>\n",
       "      <td>0</td>\n",
       "    </tr>\n",
       "    <tr>\n",
       "      <th>5</th>\n",
       "      <td>apple watch series 3</td>\n",
       "      <td>2</td>\n",
       "      <td>(watch, series, 3)</td>\n",
       "      <td>1</td>\n",
       "    </tr>\n",
       "    <tr>\n",
       "      <th>6</th>\n",
       "      <td>apple watch series 3</td>\n",
       "      <td>3</td>\n",
       "      <td>(series, 3, [E])</td>\n",
       "      <td>1</td>\n",
       "    </tr>\n",
       "    <tr>\n",
       "      <th>7</th>\n",
       "      <td>apple watch series 2</td>\n",
       "      <td>0</td>\n",
       "      <td>([S], apple, watch)</td>\n",
       "      <td>2</td>\n",
       "    </tr>\n",
       "    <tr>\n",
       "      <th>8</th>\n",
       "      <td>apple watch series 2</td>\n",
       "      <td>1</td>\n",
       "      <td>(apple, watch, series)</td>\n",
       "      <td>0</td>\n",
       "    </tr>\n",
       "    <tr>\n",
       "      <th>9</th>\n",
       "      <td>apple watch series 2</td>\n",
       "      <td>2</td>\n",
       "      <td>(watch, series, 2)</td>\n",
       "      <td>1</td>\n",
       "    </tr>\n",
       "  </tbody>\n",
       "</table>\n",
       "</div>"
      ],
      "text/plain": [
       "           product_name  word_idx                 feature  label\n",
       "0           apple watch         0     ([S], apple, watch)      2\n",
       "1           apple watch         1     (apple, watch, [E])      0\n",
       "2                  ipad         0        ([S], ipad, [E])      0\n",
       "3  apple watch series 3         0     ([S], apple, watch)      2\n",
       "4  apple watch series 3         1  (apple, watch, series)      0\n",
       "5  apple watch series 3         2      (watch, series, 3)      1\n",
       "6  apple watch series 3         3        (series, 3, [E])      1\n",
       "7  apple watch series 2         0     ([S], apple, watch)      2\n",
       "8  apple watch series 2         1  (apple, watch, series)      0\n",
       "9  apple watch series 2         2      (watch, series, 2)      1"
      ]
     },
     "execution_count": 24,
     "metadata": {},
     "output_type": "execute_result"
    }
   ],
   "source": [
    "train_labels = label_model.predict_proba(L_train).argmax(axis=1)\n",
    "X_train['label'] = train_labels\n",
    "X_train.head(10)"
   ]
  },
  {
   "cell_type": "markdown",
   "metadata": {},
   "source": [
    "### Build dataframe for seq2seq entity recognition task"
   ]
  },
  {
   "cell_type": "code",
   "execution_count": 25,
   "metadata": {
    "scrolled": true
   },
   "outputs": [],
   "source": [
    "def get_tag(df, product, word_idx):\n",
    "    df = df[df.product_name==product]\n",
    "    tag_id = df[df.word_idx==word_idx]['label'].values[0]\n",
    "    return label_list[tag_id]\n",
    "\n",
    "def build_seq_tag_df(df):\n",
    "    product_tags = []\n",
    "    for product in df.product_name.unique():\n",
    "        tokens = product.split()\n",
    "        tags = [get_tag(df, product, i) for i in range(len(tokens))]\n",
    "        product_tags.append((product, ' '.join(tags)))\n",
    "    \n",
    "    seq_df = pd.DataFrame(product_tags, columns=['product', 'label'])\n",
    "    return seq_df"
   ]
  },
  {
   "cell_type": "code",
   "execution_count": 26,
   "metadata": {
    "scrolled": true
   },
   "outputs": [
    {
     "data": {
      "text/html": [
       "<div>\n",
       "<style scoped>\n",
       "    .dataframe tbody tr th:only-of-type {\n",
       "        vertical-align: middle;\n",
       "    }\n",
       "\n",
       "    .dataframe tbody tr th {\n",
       "        vertical-align: top;\n",
       "    }\n",
       "\n",
       "    .dataframe thead th {\n",
       "        text-align: right;\n",
       "    }\n",
       "</style>\n",
       "<table border=\"1\" class=\"dataframe\">\n",
       "  <thead>\n",
       "    <tr style=\"text-align: right;\">\n",
       "      <th></th>\n",
       "      <th>product</th>\n",
       "      <th>label</th>\n",
       "    </tr>\n",
       "  </thead>\n",
       "  <tbody>\n",
       "    <tr>\n",
       "      <th>0</th>\n",
       "      <td>apple watch</td>\n",
       "      <td>brand category</td>\n",
       "    </tr>\n",
       "    <tr>\n",
       "      <th>1</th>\n",
       "      <td>ipad</td>\n",
       "      <td>category</td>\n",
       "    </tr>\n",
       "    <tr>\n",
       "      <th>2</th>\n",
       "      <td>apple watch series 3</td>\n",
       "      <td>brand category modelname modelname</td>\n",
       "    </tr>\n",
       "    <tr>\n",
       "      <th>3</th>\n",
       "      <td>apple watch series 2</td>\n",
       "      <td>brand category modelname modelname</td>\n",
       "    </tr>\n",
       "    <tr>\n",
       "      <th>4</th>\n",
       "      <td>apple homepod</td>\n",
       "      <td>brand category</td>\n",
       "    </tr>\n",
       "  </tbody>\n",
       "</table>\n",
       "</div>"
      ],
      "text/plain": [
       "                product                               label\n",
       "0           apple watch                      brand category\n",
       "1                  ipad                            category\n",
       "2  apple watch series 3  brand category modelname modelname\n",
       "3  apple watch series 2  brand category modelname modelname\n",
       "4         apple homepod                      brand category"
      ]
     },
     "execution_count": 26,
     "metadata": {},
     "output_type": "execute_result"
    }
   ],
   "source": [
    "train_seq_df = build_seq_tag_df(X_train)\n",
    "dev_seq_df = build_seq_tag_df(dev_df)\n",
    "test_seq_df = build_seq_tag_df(test_df)\n",
    "\n",
    "train_seq_df.head()"
   ]
  },
  {
   "cell_type": "markdown",
   "metadata": {},
   "source": [
    "### Save the Dataframes\n",
    "We will train our end model using dataframes."
   ]
  },
  {
   "cell_type": "code",
   "execution_count": 36,
   "metadata": {},
   "outputs": [],
   "source": [
    "train_seq_df.to_pickle(\"./train_seq_df.pkl\")\n",
    "dev_seq_df.to_pickle(\"./dev_seq_df.pkl\")\n",
    "test_seq_df.to_pickle(\"./test_seq_df.pkl\")"
   ]
  },
  {
   "cell_type": "code",
   "execution_count": null,
   "metadata": {},
   "outputs": [],
   "source": []
  }
 ],
 "metadata": {
  "kernelspec": {
   "display_name": "Python 3",
   "language": "python",
   "name": "python3"
  },
  "language_info": {
   "codemirror_mode": {
    "name": "ipython",
    "version": 3
   },
   "file_extension": ".py",
   "mimetype": "text/x-python",
   "name": "python",
   "nbconvert_exporter": "python",
   "pygments_lexer": "ipython3",
   "version": "3.7.4"
  }
 },
 "nbformat": 4,
 "nbformat_minor": 2
}

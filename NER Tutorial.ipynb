{
 "cells": [
  {
   "cell_type": "code",
   "execution_count": 1,
   "metadata": {},
   "outputs": [],
   "source": [
    "import itertools\n",
    "import json, sys\n",
    "\n",
    "import numpy as np\n",
    "import pandas as pd\n",
    "from sklearn.metrics import confusion_matrix\n",
    "import matplotlib.pyplot as plt\n",
    "%matplotlib inline\n",
    "sys.path.append(r'./../snorkel')\n",
    "\n",
    "import utils"
   ]
  },
  {
   "cell_type": "markdown",
   "metadata": {},
   "source": [
    "## Task Overview\n",
    "\n",
    "Given product search queries like 'apple watch series 3', our goal is to tag the entities with labels like 'MODELNAME', 'CATEGORY', etc.\n",
    "\n",
    "Example: \"apple watch series 3\" -> \"brand category modelname modelname\""
   ]
  },
  {
   "cell_type": "markdown",
   "metadata": {},
   "source": [
    "## Dataset\n",
    "In this tutorial, we use <a href=\"https://dataturks.com/projects/Mohan/Best%20Buy%20E-commerce%20NER%20dataset\">BestBuy E-Commerce Dataset</a> from DataTurks. The dataset contains actual search queries on bestBuy.com manually labeled by human experts. Each word (token) is tagged with an entity. Note that not all entities are tagged correctly in this dataset. For this tutorial, we will make sure that the dev/test sets contain correct labels.\n",
    "\n",
    "#### Data Preprocessing\n",
    "There are 772 unique products and 1872 tagged entities in total. The original dataset has 7 labels (category, modelname, brand, storage, screen size, etc). If a token does not belong to one of these 7 categories, then it is not tagged. We preprocess the data by only keeping 3 labels **(CATEGORY, MODELNAME, OTHER)** from the label set. All other labels (including abstain) are mapped to **OTHER**. Thus, this is a 4-class prediction problem."
   ]
  },
  {
   "cell_type": "markdown",
   "metadata": {},
   "source": [
    "### Load BestBuy Dataset"
   ]
  },
  {
   "cell_type": "code",
   "execution_count": 2,
   "metadata": {
    "scrolled": true
   },
   "outputs": [
    {
     "name": "stdout",
     "output_type": "stream",
     "text": [
      "Number of products in train set: 554\n",
      "Number of products in dev set: 135\n",
      "Number of products in test set: 76\n"
     ]
    }
   ],
   "source": [
    "with open('train_data.json') as f:\n",
    "    train_data = json.loads(f.read())\n",
    "\n",
    "with open('dev_data.json') as f:\n",
    "    dev_data = json.loads(f.read())\n",
    "\n",
    "with open('test_data.json') as f:\n",
    "    test_data = json.loads(f.read())\n",
    "    \n",
    "print('Number of products in train set:', len(train_data))\n",
    "print('Number of products in dev set:', len(dev_data))\n",
    "print('Number of products in test set:', len(test_data))"
   ]
  },
  {
   "cell_type": "markdown",
   "metadata": {},
   "source": [
    "In this tutorial, we will assume that we don't have the labels for the training set. We have the ground truth labels for dev and test set. We will use the dev set to tune the label model, and evaluate on the test set."
   ]
  },
  {
   "cell_type": "code",
   "execution_count": 3,
   "metadata": {},
   "outputs": [],
   "source": [
    "CATEGORY = 0\n",
    "MODELNAME = 1\n",
    "BRAND = 2\n",
    "OTHER = 3"
   ]
  },
  {
   "cell_type": "markdown",
   "metadata": {},
   "source": [
    "## Part I: Label Model\n",
    "\n",
    "To begin with, we will use Snorkel's Label Model to generate training labels for each token in the product names."
   ]
  },
  {
   "cell_type": "markdown",
   "metadata": {},
   "source": [
    "### Prepare dataframe for labeling functions\n",
    "\n",
    "We construct a dataframe where each row is a token that want to predict. The columns are:\n",
    "* 'Product Name': the product name that the token appears in.\n",
    "* 'word_idx': the index of the token in the product name.\n",
    "* 'label': the entity label of the token.\n",
    "\n",
    "For instance, the entry for 'apple watch' in the original dataset will be represented with the first 2 rows in this dataframe.\n"
   ]
  },
  {
   "cell_type": "code",
   "execution_count": 4,
   "metadata": {
    "scrolled": false
   },
   "outputs": [
    {
     "data": {
      "text/plain": [
       "((1349, 2), (335, 2), (199, 2))"
      ]
     },
     "execution_count": 4,
     "metadata": {},
     "output_type": "execute_result"
    }
   ],
   "source": [
    "train_df = utils.preprocess_data(train_data)\n",
    "X_train, y_train = train_df[['product_name', 'word_idx']], train_df['label']\n",
    "\n",
    "dev_df = utils.preprocess_data(dev_data)\n",
    "X_dev, y_dev = dev_df[['product_name', 'word_idx']], dev_df['label']\n",
    "\n",
    "test_df = utils.preprocess_data(test_data)\n",
    "X_test, y_test = test_df[['product_name', 'word_idx']], test_df['label']\n",
    "\n",
    "X_train.shape, X_dev.shape, X_test.shape"
   ]
  },
  {
   "cell_type": "code",
   "execution_count": 5,
   "metadata": {},
   "outputs": [
    {
     "data": {
      "text/html": [
       "<div>\n",
       "<style scoped>\n",
       "    .dataframe tbody tr th:only-of-type {\n",
       "        vertical-align: middle;\n",
       "    }\n",
       "\n",
       "    .dataframe tbody tr th {\n",
       "        vertical-align: top;\n",
       "    }\n",
       "\n",
       "    .dataframe thead th {\n",
       "        text-align: right;\n",
       "    }\n",
       "</style>\n",
       "<table border=\"1\" class=\"dataframe\">\n",
       "  <thead>\n",
       "    <tr style=\"text-align: right;\">\n",
       "      <th></th>\n",
       "      <th>product_name</th>\n",
       "      <th>word_idx</th>\n",
       "      <th>label</th>\n",
       "    </tr>\n",
       "  </thead>\n",
       "  <tbody>\n",
       "    <tr>\n",
       "      <th>0</th>\n",
       "      <td>fingerlings baby monkeys</td>\n",
       "      <td>0</td>\n",
       "      <td>2</td>\n",
       "    </tr>\n",
       "    <tr>\n",
       "      <th>1</th>\n",
       "      <td>fingerlings baby monkeys</td>\n",
       "      <td>1</td>\n",
       "      <td>3</td>\n",
       "    </tr>\n",
       "    <tr>\n",
       "      <th>2</th>\n",
       "      <td>fingerlings baby monkeys</td>\n",
       "      <td>2</td>\n",
       "      <td>3</td>\n",
       "    </tr>\n",
       "    <tr>\n",
       "      <th>3</th>\n",
       "      <td>b&amp;w 685 s2</td>\n",
       "      <td>0</td>\n",
       "      <td>2</td>\n",
       "    </tr>\n",
       "    <tr>\n",
       "      <th>4</th>\n",
       "      <td>b&amp;w 685 s2</td>\n",
       "      <td>1</td>\n",
       "      <td>1</td>\n",
       "    </tr>\n",
       "  </tbody>\n",
       "</table>\n",
       "</div>"
      ],
      "text/plain": [
       "               product_name  word_idx  label\n",
       "0  fingerlings baby monkeys         0      2\n",
       "1  fingerlings baby monkeys         1      3\n",
       "2  fingerlings baby monkeys         2      3\n",
       "3                b&w 685 s2         0      2\n",
       "4                b&w 685 s2         1      1"
      ]
     },
     "execution_count": 5,
     "metadata": {},
     "output_type": "execute_result"
    }
   ],
   "source": [
    "train_df.head()"
   ]
  },
  {
   "cell_type": "markdown",
   "metadata": {},
   "source": [
    "### Class distributions in dev/test data split"
   ]
  },
  {
   "cell_type": "code",
   "execution_count": 6,
   "metadata": {},
   "outputs": [
    {
     "data": {
      "text/plain": [
       "Text(0, 0.5, 'Count')"
      ]
     },
     "execution_count": 6,
     "metadata": {},
     "output_type": "execute_result"
    },
    {
     "data": {
      "image/png": "[encoded data removed]",
      "text/plain": [
       "<Figure size 432x288 with 1 Axes>"
      ]
     },
     "metadata": {
      "needs_background": "light"
     },
     "output_type": "display_data"
    }
   ],
   "source": [
    "plt.hist([y_dev.map(lambda i: utils.label_list[i]), y_test.map(lambda i: utils.label_list[i])])\n",
    "plt.legend(['dev set', 'test set'])\n",
    "plt.ylabel('Count')"
   ]
  },
  {
   "cell_type": "markdown",
   "metadata": {},
   "source": [
    "### Write Labeling Functions\n",
    "\n",
    "We can write labeling functions using the following rules.\n",
    "1. Heuristics.\n",
    "    - if the token is before a number, then it is likely MODELNAME. E.g. \"apple watch *series* 3\"\n",
    "    - if the token contains a number, then it is likely MODELNAME. E.g. \"apple watch series *3*\"\n",
    "    - if the token contains some measurement units (e.g. tb, inch), then it is probably OTHER.\n",
    "2. External knowledge source (a list of brand names scrapped from BestBuy)\n",
    "    - if the token is in the list of brand names or list of categories, then it is BRANDNAME/CATEGORY.\n",
    "    - if the token is after a brand name, it is likely MODELNAME. E.g. beats *solo3* wireless"
   ]
  },
  {
   "cell_type": "markdown",
   "metadata": {},
   "source": [
    "Here an example of a labeling function that checks if the token contains a number:"
   ]
  },
  {
   "cell_type": "code",
   "execution_count": 7,
   "metadata": {},
   "outputs": [],
   "source": [
    "from snorkel.labeling import labeling_function\n",
    "@labeling_function()\n",
    "def lf_has_numbers(x):\n",
    "    w = x.feature[1]\n",
    "    if any(i.isdigit() for i in w):\n",
    "        return MODELNAME\n",
    "    return -1"
   ]
  },
  {
   "cell_type": "markdown",
   "metadata": {},
   "source": [
    "We implement other LFs in labeling_functions and will import from there."
   ]
  },
  {
   "cell_type": "code",
   "execution_count": 8,
   "metadata": {},
   "outputs": [],
   "source": [
    "import labeling_functions as lf"
   ]
  },
  {
   "cell_type": "markdown",
   "metadata": {},
   "source": [
    "### Apply the LFs to all data points"
   ]
  },
  {
   "cell_type": "code",
   "execution_count": 9,
   "metadata": {
    "scrolled": true
   },
   "outputs": [
    {
     "name": "stderr",
     "output_type": "stream",
     "text": [
      "C:\\Users\\zhenz\\Anaconda3\\envs\\keras\\lib\\site-packages\\tqdm\\std.py:648: FutureWarning: The Panel class is removed from pandas. Accessing it from the top-level namespace will also be removed in the next version\n",
      "  from pandas import Panel\n",
      "100%|██████████████████████████████████████████████████████████████████████████████| 1349/1349 [00:16<00:00, 80.79it/s]\n",
      "100%|████████████████████████████████████████████████████████████████████████████████| 335/335 [00:03<00:00, 84.99it/s]\n",
      "100%|████████████████████████████████████████████████████████████████████████████████| 199/199 [00:02<00:00, 82.87it/s]\n"
     ]
    }
   ],
   "source": [
    "from snorkel.labeling import PandasLFApplier\n",
    "from snorkel.labeling import LFAnalysis\n",
    "\n",
    "lfs = [lf.lf_has_numbers,\n",
    "       lf.lf_is_noun,\n",
    "       lf.lf_is_single_word,\n",
    "       lf.lf_is_before_num, \n",
    "       lf.lf_is_other,\n",
    "       lf.lf_is_brand, \n",
    "       lf.lf_is_in_category_list]\n",
    "\n",
    "applier = PandasLFApplier(lfs=lfs)\n",
    "\n",
    "L_train = applier.apply(df=X_train)\n",
    "L_dev = applier.apply(df=X_dev)\n",
    "L_test = applier.apply(df=X_test)"
   ]
  },
  {
   "cell_type": "markdown",
   "metadata": {},
   "source": [
    "### Evaluate the LFs on the dev set"
   ]
  },
  {
   "cell_type": "code",
   "execution_count": 10,
   "metadata": {
    "scrolled": false
   },
   "outputs": [
    {
     "data": {
      "text/html": [
       "<div>\n",
       "<style scoped>\n",
       "    .dataframe tbody tr th:only-of-type {\n",
       "        vertical-align: middle;\n",
       "    }\n",
       "\n",
       "    .dataframe tbody tr th {\n",
       "        vertical-align: top;\n",
       "    }\n",
       "\n",
       "    .dataframe thead th {\n",
       "        text-align: right;\n",
       "    }\n",
       "</style>\n",
       "<table border=\"1\" class=\"dataframe\">\n",
       "  <thead>\n",
       "    <tr style=\"text-align: right;\">\n",
       "      <th></th>\n",
       "      <th>j</th>\n",
       "      <th>Polarity</th>\n",
       "      <th>Coverage</th>\n",
       "      <th>Overlaps</th>\n",
       "      <th>Conflicts</th>\n",
       "      <th>Correct</th>\n",
       "      <th>Incorrect</th>\n",
       "      <th>Emp. Acc.</th>\n",
       "    </tr>\n",
       "  </thead>\n",
       "  <tbody>\n",
       "    <tr>\n",
       "      <th>lf_has_numbers</th>\n",
       "      <td>0</td>\n",
       "      <td>[1]</td>\n",
       "      <td>0.161194</td>\n",
       "      <td>0.038806</td>\n",
       "      <td>0.008955</td>\n",
       "      <td>41</td>\n",
       "      <td>13</td>\n",
       "      <td>0.759259</td>\n",
       "    </tr>\n",
       "    <tr>\n",
       "      <th>lf_is_noun</th>\n",
       "      <td>1</td>\n",
       "      <td>[0]</td>\n",
       "      <td>0.364179</td>\n",
       "      <td>0.211940</td>\n",
       "      <td>0.047761</td>\n",
       "      <td>74</td>\n",
       "      <td>48</td>\n",
       "      <td>0.606557</td>\n",
       "    </tr>\n",
       "    <tr>\n",
       "      <th>lf_is_single_word</th>\n",
       "      <td>2</td>\n",
       "      <td>[1]</td>\n",
       "      <td>0.047761</td>\n",
       "      <td>0.047761</td>\n",
       "      <td>0.017910</td>\n",
       "      <td>10</td>\n",
       "      <td>6</td>\n",
       "      <td>0.625000</td>\n",
       "    </tr>\n",
       "    <tr>\n",
       "      <th>lf_is_before_num</th>\n",
       "      <td>3</td>\n",
       "      <td>[1]</td>\n",
       "      <td>0.053731</td>\n",
       "      <td>0.023881</td>\n",
       "      <td>0.023881</td>\n",
       "      <td>15</td>\n",
       "      <td>3</td>\n",
       "      <td>0.833333</td>\n",
       "    </tr>\n",
       "    <tr>\n",
       "      <th>lf_is_other</th>\n",
       "      <td>4</td>\n",
       "      <td>[3]</td>\n",
       "      <td>0.032836</td>\n",
       "      <td>0.011940</td>\n",
       "      <td>0.011940</td>\n",
       "      <td>8</td>\n",
       "      <td>3</td>\n",
       "      <td>0.727273</td>\n",
       "    </tr>\n",
       "    <tr>\n",
       "      <th>lf_is_brand</th>\n",
       "      <td>5</td>\n",
       "      <td>[2]</td>\n",
       "      <td>0.107463</td>\n",
       "      <td>0.005970</td>\n",
       "      <td>0.005970</td>\n",
       "      <td>35</td>\n",
       "      <td>1</td>\n",
       "      <td>0.972222</td>\n",
       "    </tr>\n",
       "    <tr>\n",
       "      <th>lf_is_in_category_list</th>\n",
       "      <td>6</td>\n",
       "      <td>[0]</td>\n",
       "      <td>0.220896</td>\n",
       "      <td>0.167164</td>\n",
       "      <td>0.002985</td>\n",
       "      <td>66</td>\n",
       "      <td>8</td>\n",
       "      <td>0.891892</td>\n",
       "    </tr>\n",
       "  </tbody>\n",
       "</table>\n",
       "</div>"
      ],
      "text/plain": [
       "                        j Polarity  Coverage  Overlaps  Conflicts  Correct  \\\n",
       "lf_has_numbers          0      [1]  0.161194  0.038806   0.008955       41   \n",
       "lf_is_noun              1      [0]  0.364179  0.211940   0.047761       74   \n",
       "lf_is_single_word       2      [1]  0.047761  0.047761   0.017910       10   \n",
       "lf_is_before_num        3      [1]  0.053731  0.023881   0.023881       15   \n",
       "lf_is_other             4      [3]  0.032836  0.011940   0.011940        8   \n",
       "lf_is_brand             5      [2]  0.107463  0.005970   0.005970       35   \n",
       "lf_is_in_category_list  6      [0]  0.220896  0.167164   0.002985       66   \n",
       "\n",
       "                        Incorrect  Emp. Acc.  \n",
       "lf_has_numbers                 13   0.759259  \n",
       "lf_is_noun                     48   0.606557  \n",
       "lf_is_single_word               6   0.625000  \n",
       "lf_is_before_num                3   0.833333  \n",
       "lf_is_other                     3   0.727273  \n",
       "lf_is_brand                     1   0.972222  \n",
       "lf_is_in_category_list          8   0.891892  "
      ]
     },
     "execution_count": 10,
     "metadata": {},
     "output_type": "execute_result"
    }
   ],
   "source": [
    "LFAnalysis(L=L_dev, lfs=lfs).lf_summary(y_dev.values)"
   ]
  },
  {
   "cell_type": "code",
   "execution_count": 11,
   "metadata": {
    "scrolled": false
   },
   "outputs": [
    {
     "data": {
      "text/plain": [
       "0.7343283582089553"
      ]
     },
     "execution_count": 11,
     "metadata": {},
     "output_type": "execute_result"
    }
   ],
   "source": [
    "# total coverage\n",
    "((L_dev != -1).sum(1) > 0).sum() / len(L_dev)"
   ]
  },
  {
   "cell_type": "markdown",
   "metadata": {},
   "source": [
    "### Train a Label Model"
   ]
  },
  {
   "cell_type": "code",
   "execution_count": 12,
   "metadata": {
    "scrolled": false
   },
   "outputs": [
    {
     "name": "stderr",
     "output_type": "stream",
     "text": [
      "WARNING:root:Metrics calculated over data points with non-abstain labels only\n"
     ]
    },
    {
     "name": "stdout",
     "output_type": "stream",
     "text": [
      "Majority Vote Accuracy:   76.1%\n"
     ]
    }
   ],
   "source": [
    "from snorkel.labeling import LabelModel\n",
    "from snorkel.labeling import MajorityLabelVoter\n",
    "\n",
    "majority_model = MajorityLabelVoter(cardinality=4)\n",
    "preds_train = majority_model.predict(L=L_train)\n",
    "\n",
    "majority_acc = majority_model.score(L=L_dev, Y=y_dev)[\"accuracy\"]\n",
    "print(f\"{'Majority Vote Accuracy:':<25} {majority_acc * 100:.1f}%\")"
   ]
  },
  {
   "cell_type": "code",
   "execution_count": 13,
   "metadata": {
    "scrolled": true
   },
   "outputs": [
    {
     "name": "stderr",
     "output_type": "stream",
     "text": [
      "WARNING:root:Metrics calculated over data points with non-abstain labels only\n"
     ]
    },
    {
     "name": "stdout",
     "output_type": "stream",
     "text": [
      "Label Model Accuracy:     72.4%\n"
     ]
    }
   ],
   "source": [
    "label_model = LabelModel(cardinality=4, verbose=True)\n",
    "label_model.fit(L_train=L_train, n_epochs=3000, lr=1e-5)#, class_balance=[0.3, 0.3, 0.2, 0.2])\n",
    "\n",
    "label_model_acc = label_model.score(L=L_dev, Y=y_dev)[\"accuracy\"]\n",
    "print(f\"{'Label Model Accuracy:':<25} {label_model_acc * 100:.1f}%\")"
   ]
  },
  {
   "cell_type": "code",
   "execution_count": 14,
   "metadata": {
    "scrolled": false
   },
   "outputs": [
    {
     "data": {
      "text/plain": [
       "array([[ 0, 21, 28, 16, 24],\n",
       "       [ 0, 88, 16, 10, 24],\n",
       "       [ 0,  1, 50,  1, 12],\n",
       "       [ 0,  0,  1, 35,  0],\n",
       "       [ 0,  1,  1,  1,  5]], dtype=int64)"
      ]
     },
     "execution_count": 14,
     "metadata": {},
     "output_type": "execute_result"
    }
   ],
   "source": [
    "confusion_matrix(label_model.predict(L=L_dev), y_dev)"
   ]
  },
  {
   "cell_type": "markdown",
   "metadata": {},
   "source": [
    "#### Use the labels with highest soft probabilities as the training labels"
   ]
  },
  {
   "cell_type": "code",
   "execution_count": 15,
   "metadata": {
    "scrolled": true
   },
   "outputs": [
    {
     "data": {
      "text/html": [
       "<div>\n",
       "<style scoped>\n",
       "    .dataframe tbody tr th:only-of-type {\n",
       "        vertical-align: middle;\n",
       "    }\n",
       "\n",
       "    .dataframe tbody tr th {\n",
       "        vertical-align: top;\n",
       "    }\n",
       "\n",
       "    .dataframe thead th {\n",
       "        text-align: right;\n",
       "    }\n",
       "</style>\n",
       "<table border=\"1\" class=\"dataframe\">\n",
       "  <thead>\n",
       "    <tr style=\"text-align: right;\">\n",
       "      <th></th>\n",
       "      <th>product_name</th>\n",
       "      <th>word_idx</th>\n",
       "      <th>label</th>\n",
       "    </tr>\n",
       "  </thead>\n",
       "  <tbody>\n",
       "    <tr>\n",
       "      <th>0</th>\n",
       "      <td>fingerlings baby monkeys</td>\n",
       "      <td>0</td>\n",
       "      <td>0</td>\n",
       "    </tr>\n",
       "    <tr>\n",
       "      <th>1</th>\n",
       "      <td>fingerlings baby monkeys</td>\n",
       "      <td>1</td>\n",
       "      <td>0</td>\n",
       "    </tr>\n",
       "    <tr>\n",
       "      <th>2</th>\n",
       "      <td>fingerlings baby monkeys</td>\n",
       "      <td>2</td>\n",
       "      <td>0</td>\n",
       "    </tr>\n",
       "    <tr>\n",
       "      <th>3</th>\n",
       "      <td>b&amp;w 685 s2</td>\n",
       "      <td>0</td>\n",
       "      <td>1</td>\n",
       "    </tr>\n",
       "    <tr>\n",
       "      <th>4</th>\n",
       "      <td>b&amp;w 685 s2</td>\n",
       "      <td>1</td>\n",
       "      <td>1</td>\n",
       "    </tr>\n",
       "  </tbody>\n",
       "</table>\n",
       "</div>"
      ],
      "text/plain": [
       "               product_name  word_idx  label\n",
       "0  fingerlings baby monkeys         0      0\n",
       "1  fingerlings baby monkeys         1      0\n",
       "2  fingerlings baby monkeys         2      0\n",
       "3                b&w 685 s2         0      1\n",
       "4                b&w 685 s2         1      1"
      ]
     },
     "execution_count": 15,
     "metadata": {},
     "output_type": "execute_result"
    }
   ],
   "source": [
    "train_labels = label_model.predict_proba(L_train).argmax(axis=1)\n",
    "X_train['label'] = train_labels\n",
    "X_train.head()"
   ]
  },
  {
   "cell_type": "markdown",
   "metadata": {},
   "source": [
    "Some of the products are still hard to predict. For example, movie and game names: circle by disney, call of duty, bioshock the collection, etc. \n",
    "In practice we can use use a database of movie names or game names to write LFs for these products."
   ]
  },
  {
   "cell_type": "markdown",
   "metadata": {},
   "source": [
    "## Part II: Train an End Model"
   ]
  },
  {
   "cell_type": "markdown",
   "metadata": {},
   "source": [
    "### Build dataframe for seq2seq entity recognition task"
   ]
  },
  {
   "cell_type": "code",
   "execution_count": 16,
   "metadata": {
    "scrolled": false
   },
   "outputs": [
    {
     "data": {
      "text/html": [
       "<div>\n",
       "<style scoped>\n",
       "    .dataframe tbody tr th:only-of-type {\n",
       "        vertical-align: middle;\n",
       "    }\n",
       "\n",
       "    .dataframe tbody tr th {\n",
       "        vertical-align: top;\n",
       "    }\n",
       "\n",
       "    .dataframe thead th {\n",
       "        text-align: right;\n",
       "    }\n",
       "</style>\n",
       "<table border=\"1\" class=\"dataframe\">\n",
       "  <thead>\n",
       "    <tr style=\"text-align: right;\">\n",
       "      <th></th>\n",
       "      <th>product</th>\n",
       "      <th>label</th>\n",
       "    </tr>\n",
       "  </thead>\n",
       "  <tbody>\n",
       "    <tr>\n",
       "      <th>0</th>\n",
       "      <td>fingerlings baby monkeys</td>\n",
       "      <td>category category category</td>\n",
       "    </tr>\n",
       "    <tr>\n",
       "      <th>1</th>\n",
       "      <td>b&amp;w 685 s2</td>\n",
       "      <td>modelname modelname modelname</td>\n",
       "    </tr>\n",
       "    <tr>\n",
       "      <th>2</th>\n",
       "      <td>aw17r4</td>\n",
       "      <td>modelname</td>\n",
       "    </tr>\n",
       "    <tr>\n",
       "      <th>3</th>\n",
       "      <td>android tv box</td>\n",
       "      <td>category category category</td>\n",
       "    </tr>\n",
       "    <tr>\n",
       "      <th>4</th>\n",
       "      <td>xbox one</td>\n",
       "      <td>category category</td>\n",
       "    </tr>\n",
       "  </tbody>\n",
       "</table>\n",
       "</div>"
      ],
      "text/plain": [
       "                    product                          label\n",
       "0  fingerlings baby monkeys     category category category\n",
       "1                b&w 685 s2  modelname modelname modelname\n",
       "2                    aw17r4                      modelname\n",
       "3            android tv box     category category category\n",
       "4                  xbox one              category category"
      ]
     },
     "execution_count": 16,
     "metadata": {},
     "output_type": "execute_result"
    }
   ],
   "source": [
    "train_seq_df = utils.build_seq_tag_df(X_train)\n",
    "dev_seq_df = utils.build_seq_tag_df(dev_df)\n",
    "test_seq_df = utils.build_seq_tag_df(test_df)\n",
    "\n",
    "train_seq_df.head()"
   ]
  },
  {
   "cell_type": "code",
   "execution_count": 17,
   "metadata": {
    "scrolled": false
   },
   "outputs": [
    {
     "name": "stderr",
     "output_type": "stream",
     "text": [
      "Using TensorFlow backend.\n",
      "WARNING:tensorflow:From C:\\Users\\zhenz\\Anaconda3\\envs\\keras\\lib\\site-packages\\keras\\backend\\tensorflow_backend.py:74: The name tf.get_default_graph is deprecated. Please use tf.compat.v1.get_default_graph instead.\n",
      "\n",
      "WARNING:tensorflow:From C:\\Users\\zhenz\\Anaconda3\\envs\\keras\\lib\\site-packages\\keras\\backend\\tensorflow_backend.py:517: The name tf.placeholder is deprecated. Please use tf.compat.v1.placeholder instead.\n",
      "\n",
      "WARNING:tensorflow:From C:\\Users\\zhenz\\Anaconda3\\envs\\keras\\lib\\site-packages\\keras\\backend\\tensorflow_backend.py:4138: The name tf.random_uniform is deprecated. Please use tf.random.uniform instead.\n",
      "\n",
      "WARNING:tensorflow:From C:\\Users\\zhenz\\Anaconda3\\envs\\keras\\lib\\site-packages\\keras\\backend\\tensorflow_backend.py:133: The name tf.placeholder_with_default is deprecated. Please use tf.compat.v1.placeholder_with_default instead.\n",
      "\n",
      "WARNING:tensorflow:From C:\\Users\\zhenz\\Anaconda3\\envs\\keras\\lib\\site-packages\\keras\\backend\\tensorflow_backend.py:3445: calling dropout (from tensorflow.python.ops.nn_ops) with keep_prob is deprecated and will be removed in a future version.\n",
      "Instructions for updating:\n",
      "Please use `rate` instead of `keep_prob`. Rate should be set to `rate = 1 - keep_prob`.\n",
      "WARNING:tensorflow:From C:\\Users\\zhenz\\Anaconda3\\envs\\keras\\lib\\site-packages\\keras\\backend\\tensorflow_backend.py:2974: add_dispatch_support.<locals>.wrapper (from tensorflow.python.ops.array_ops) is deprecated and will be removed in a future version.\n",
      "Instructions for updating:\n",
      "Use tf.where in 2.0, which has the same broadcast rule as np.where\n",
      "C:\\Users\\zhenz\\Anaconda3\\envs\\keras\\lib\\site-packages\\keras_contrib\\layers\\crf.py:346: UserWarning: CRF.loss_function is deprecated and it might be removed in the future. Please use losses.crf_loss instead.\n",
      "  warnings.warn('CRF.loss_function is deprecated '\n",
      "C:\\Users\\zhenz\\Anaconda3\\envs\\keras\\lib\\site-packages\\keras_contrib\\layers\\crf.py:353: UserWarning: CRF.accuracy is deprecated and it might be removed in the future. Please use metrics.crf_accuracy\n",
      "  warnings.warn('CRF.accuracy is deprecated and it '\n",
      "WARNING:tensorflow:From C:\\Users\\zhenz\\Anaconda3\\envs\\keras\\lib\\site-packages\\keras\\optimizers.py:790: The name tf.train.Optimizer is deprecated. Please use tf.compat.v1.train.Optimizer instead.\n",
      "\n",
      "WARNING:tensorflow:From C:\\Users\\zhenz\\Anaconda3\\envs\\keras\\lib\\site-packages\\keras\\backend\\tensorflow_backend.py:986: The name tf.assign_add is deprecated. Please use tf.compat.v1.assign_add instead.\n",
      "\n"
     ]
    },
    {
     "name": "stdout",
     "output_type": "stream",
     "text": [
      "Train on 554 samples, validate on 135 samples\n",
      "Epoch 1/8\n",
      " - 3s - loss: 5.9077 - crf_viterbi_accuracy: 0.3415 - val_loss: 5.4952 - val_crf_viterbi_accuracy: 0.2475\n",
      "Epoch 2/8\n",
      " - 0s - loss: 5.2511 - crf_viterbi_accuracy: 0.6781 - val_loss: 5.8880 - val_crf_viterbi_accuracy: 0.3302\n",
      "Epoch 3/8\n",
      " - 1s - loss: 4.9684 - crf_viterbi_accuracy: 0.7232 - val_loss: 5.7856 - val_crf_viterbi_accuracy: 0.3302\n",
      "Epoch 4/8\n",
      " - 1s - loss: 4.8182 - crf_viterbi_accuracy: 0.7336 - val_loss: 5.8668 - val_crf_viterbi_accuracy: 0.3758\n",
      "Epoch 5/8\n",
      " - 1s - loss: 4.6660 - crf_viterbi_accuracy: 0.8113 - val_loss: 5.9538 - val_crf_viterbi_accuracy: 0.4748\n",
      "Epoch 6/8\n",
      " - 1s - loss: 4.5086 - crf_viterbi_accuracy: 0.9061 - val_loss: 6.2560 - val_crf_viterbi_accuracy: 0.5048\n",
      "Epoch 7/8\n",
      " - 1s - loss: 4.3846 - crf_viterbi_accuracy: 0.9424 - val_loss: 6.6316 - val_crf_viterbi_accuracy: 0.5277\n",
      "Epoch 8/8\n",
      " - 1s - loss: 4.3071 - crf_viterbi_accuracy: 0.9637 - val_loss: 6.9311 - val_crf_viterbi_accuracy: 0.5304\n",
      "              precision    recall  f1-score   support\n",
      "\n",
      "       brand       0.42      0.69      0.52        16\n",
      "    category       0.97      0.45      0.62       144\n",
      "   modelname       0.52      0.74      0.61        39\n",
      "\n",
      "   micro avg       0.70      0.53      0.60       199\n",
      "   macro avg       0.64      0.63      0.58       199\n",
      "weighted avg       0.84      0.53      0.61       199\n",
      "\n"
     ]
    },
    {
     "data": {
      "text/plain": [
       "0.7046979865771812"
      ]
     },
     "execution_count": 17,
     "metadata": {},
     "output_type": "execute_result"
    }
   ],
   "source": [
    "import end_model\n",
    "from sklearn.metrics import accuracy_score, classification_report\n",
    "\n",
    "y_test_true, pred = end_model.train_end_model(train_seq_df, dev_seq_df, test_seq_df, n_epochs=8)\n",
    "true_flatten = np.array(y_test_true).flatten()\n",
    "pred_flatten = np.array(pred).flatten()\n",
    "\n",
    "report = classification_report(pred_flatten, true_flatten, labels=['brand', 'category', 'modelname'])\n",
    "print(report)\n",
    "accuracy_score(true_flatten[np.logical_and(true_flatten!='PAD', true_flatten!='other')],\n",
    "               pred_flatten[np.logical_and(true_flatten!='PAD', true_flatten!='other')])"
   ]
  },
  {
   "cell_type": "code",
   "execution_count": 18,
   "metadata": {},
   "outputs": [
    {
     "name": "stderr",
     "output_type": "stream",
     "text": [
      "C:\\Users\\zhenz\\Anaconda3\\envs\\keras\\lib\\site-packages\\keras_contrib\\layers\\crf.py:346: UserWarning: CRF.loss_function is deprecated and it might be removed in the future. Please use losses.crf_loss instead.\n",
      "  warnings.warn('CRF.loss_function is deprecated '\n",
      "C:\\Users\\zhenz\\Anaconda3\\envs\\keras\\lib\\site-packages\\keras_contrib\\layers\\crf.py:353: UserWarning: CRF.accuracy is deprecated and it might be removed in the future. Please use metrics.crf_accuracy\n",
      "  warnings.warn('CRF.accuracy is deprecated and it '\n"
     ]
    },
    {
     "name": "stdout",
     "output_type": "stream",
     "text": [
      "Train on 554 samples, validate on 135 samples\n",
      "Epoch 1/8\n",
      " - 3s - loss: 5.8183 - crf_viterbi_accuracy: 0.1644 - val_loss: 5.4950 - val_crf_viterbi_accuracy: 0.1906\n",
      "Epoch 2/8\n",
      " - 0s - loss: 5.6472 - crf_viterbi_accuracy: 0.2955 - val_loss: 5.2662 - val_crf_viterbi_accuracy: 0.3302\n",
      "Epoch 3/8\n",
      " - 1s - loss: 5.3826 - crf_viterbi_accuracy: 0.4497 - val_loss: 5.0543 - val_crf_viterbi_accuracy: 0.5206\n",
      "Epoch 4/8\n",
      " - 1s - loss: 5.1052 - crf_viterbi_accuracy: 0.6526 - val_loss: 4.8653 - val_crf_viterbi_accuracy: 0.5853\n",
      "Epoch 5/8\n",
      " - 1s - loss: 4.8691 - crf_viterbi_accuracy: 0.7051 - val_loss: 4.7818 - val_crf_viterbi_accuracy: 0.6153\n",
      "Epoch 6/8\n",
      " - 1s - loss: 4.7341 - crf_viterbi_accuracy: 0.7467 - val_loss: 4.7547 - val_crf_viterbi_accuracy: 0.6355\n",
      "Epoch 7/8\n",
      " - 1s - loss: 4.6441 - crf_viterbi_accuracy: 0.7995 - val_loss: 4.7642 - val_crf_viterbi_accuracy: 0.6485\n",
      "Epoch 8/8\n",
      " - 1s - loss: 4.5678 - crf_viterbi_accuracy: 0.8392 - val_loss: 4.7868 - val_crf_viterbi_accuracy: 0.6638\n",
      "              precision    recall  f1-score   support\n",
      "\n",
      "       brand       0.58      0.54      0.56        28\n",
      "    category       0.79      0.83      0.81        64\n",
      "   modelname       0.68      0.60      0.64        63\n",
      "\n",
      "   micro avg       0.71      0.68      0.70       155\n",
      "   macro avg       0.68      0.66      0.67       155\n",
      "weighted avg       0.71      0.68      0.69       155\n",
      "\n"
     ]
    },
    {
     "data": {
      "text/plain": [
       "0.7114093959731543"
      ]
     },
     "execution_count": 18,
     "metadata": {},
     "output_type": "execute_result"
    }
   ],
   "source": [
    "X_train['gt_label'] = y_train\n",
    "train_seq_df_gt = utils.build_seq_tag_df(X_train, 'gt_label')\n",
    "\n",
    "# train with 'gt' labels\n",
    "y_test_true, pred2 = end_model.train_end_model(train_seq_df_gt, dev_seq_df, test_seq_df, n_epochs=8)\n",
    "true_flatten = np.array(y_test_true).flatten()\n",
    "pred2_flatten = np.array(pred2).flatten()\n",
    "\n",
    "report2 = classification_report(pred2_flatten, true_flatten, labels=['brand', 'category', 'modelname'])\n",
    "print(report2)\n",
    "accuracy_score(true_flatten[np.logical_and(true_flatten!='PAD', true_flatten!='other')],\n",
    "               pred2_flatten[np.logical_and(true_flatten!='PAD', true_flatten!='other')])"
   ]
  },
  {
   "cell_type": "code",
   "execution_count": null,
   "metadata": {},
   "outputs": [],
   "source": []
  },
  {
   "cell_type": "code",
   "execution_count": null,
   "metadata": {},
   "outputs": [],
   "source": []
  },
  {
   "cell_type": "code",
   "execution_count": 19,
   "metadata": {},
   "outputs": [],
   "source": [
    "# train_seq_df.to_pickle(\"./train_seq_df.pkl\")\n",
    "# dev_seq_df.to_pickle(\"./dev_seq_df.pkl\")\n",
    "# test_seq_df.to_pickle(\"./test_seq_df.pkl\")\n",
    "\n",
    "# # save gt labels for comparison\n",
    "# X_train['gt_label'] = y_train\n",
    "# train_seq_df_gt = utils.build_seq_tag_df(X_train, 'gt_label')\n",
    "# train_seq_df_gt.to_pickle(\"./train_seq_df_gt.pkl\")"
   ]
  },
  {
   "cell_type": "code",
   "execution_count": 20,
   "metadata": {},
   "outputs": [],
   "source": [
    "# X_train['gt_label'] = y_train\n",
    "# X_train.to_pickle(\"./train_per_token_df.pkl\")\n",
    "# dev_df.to_pickle(\"./dev_per_token_df.pkl\")\n",
    "# test_df.to_pickle(\"./test_per_token_df.pkl\")"
   ]
  }
 ],
 "metadata": {
  "kernelspec": {
   "display_name": "Python 3",
   "language": "python",
   "name": "python3"
  },
  "language_info": {
   "codemirror_mode": {
    "name": "ipython",
    "version": 3
   },
   "file_extension": ".py",
   "mimetype": "text/x-python",
   "name": "python",
   "nbconvert_exporter": "python",
   "pygments_lexer": "ipython3",
   "version": "3.7.4"
  }
 },
 "nbformat": 4,
 "nbformat_minor": 2
}
